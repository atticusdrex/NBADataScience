{
 "cells": [
  {
   "cell_type": "code",
   "execution_count": 1,
   "metadata": {},
   "outputs": [],
   "source": [
    "from moneylinefunctions import *"
   ]
  },
  {
   "cell_type": "code",
   "execution_count": 3,
   "metadata": {},
   "outputs": [
    {
     "data": {
      "text/plain": [
       "{'MIL': {'odds': '-245',\n",
       "  'home_team': 'MEM',\n",
       "  'away_team': 'MIL',\n",
       "  'profit': 0.40816326530612246},\n",
       " 'MEM': {'odds': '+200',\n",
       "  'home_team': 'MEM',\n",
       "  'away_team': 'MIL',\n",
       "  'profit': 2.0},\n",
       " 'HOU': {'odds': '+210',\n",
       "  'home_team': 'DAL',\n",
       "  'away_team': 'HOU',\n",
       "  'profit': 2.1},\n",
       " 'DAL': {'odds': '-258',\n",
       "  'home_team': 'DAL',\n",
       "  'away_team': 'HOU',\n",
       "  'profit': 0.3875968992248062},\n",
       " 'SAS': {'odds': '-112',\n",
       "  'home_team': 'UTA',\n",
       "  'away_team': 'SAS',\n",
       "  'profit': 0.8928571428571429},\n",
       " 'UTA': {'odds': '-108',\n",
       "  'home_team': 'UTA',\n",
       "  'away_team': 'SAS',\n",
       "  'profit': 0.9259259259259259},\n",
       " 'PHX': {'odds': '-185',\n",
       "  'home_team': 'LAC',\n",
       "  'away_team': 'PHX',\n",
       "  'profit': 0.5405405405405406},\n",
       " 'LAC': {'odds': '+154',\n",
       "  'home_team': 'LAC',\n",
       "  'away_team': 'PHX',\n",
       "  'profit': 1.54}}"
      ]
     },
     "execution_count": 3,
     "metadata": {},
     "output_type": "execute_result"
    }
   ],
   "source": [
    "get_todays_odds()"
   ]
  }
 ],
 "metadata": {
  "kernelspec": {
   "display_name": "Python 3",
   "language": "python",
   "name": "python3"
  },
  "language_info": {
   "codemirror_mode": {
    "name": "ipython",
    "version": 3
   },
   "file_extension": ".py",
   "mimetype": "text/x-python",
   "name": "python",
   "nbconvert_exporter": "python",
   "pygments_lexer": "ipython3",
   "version": "3.11.4"
  }
 },
 "nbformat": 4,
 "nbformat_minor": 2
}
